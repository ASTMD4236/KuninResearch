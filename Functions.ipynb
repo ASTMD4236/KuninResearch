{
 "cells": [
  {
   "cell_type": "code",
   "execution_count": 316,
   "metadata": {},
   "outputs": [],
   "source": [
    "import random\n",
    "import numpy as np\n",
    "import scipy as sc\n",
    "def graphmaker(v, p):\n",
    "    for i in range(0,v+1):\n",
    "        i += 1\n",
    "        print(i)\n"
   ]
  },
  {
   "cell_type": "code",
   "execution_count": 164,
   "metadata": {},
   "outputs": [],
   "source": [
    "\n",
    "#This function generates a list of tuples based on number of vertices and probabilty of forming an edge, does not allow self connection.\n",
    "\n",
    "def graph(v, p):\n",
    "    C = []\n",
    "    for i in range(1,v+1):\n",
    "        for x in range(1,v+1):\n",
    "            if x == i:\n",
    "                continue\n",
    "            if random.random() <= p:\n",
    "                C.append([x,i])\n",
    "            else:\n",
    "                continue\n",
    "    return(C)\n",
    "        "
   ]
  },
  {
   "cell_type": "code",
   "execution_count": 168,
   "metadata": {},
   "outputs": [],
   "source": [
    "#This converts a list of tuple and size to a matrix\n",
    "def convert(list,size):\n",
    "    A = np.zeros((size,size)).astype(int)\n",
    "    for x in list:\n",
    "        A[x[0]-1,x[1]-1] =1\n",
    "    print(A)"
   ]
  },
  {
   "cell_type": "code",
   "execution_count": 217,
   "metadata": {},
   "outputs": [],
   "source": [
    "#This function generates a matrix representing a graph, based on number of vertices and proability of forming edge, no self-connection.\n",
    "def matrix(v,p):\n",
    "    B = []\n",
    "    A = np.zeros((v,v)).astype(int)\n",
    "    for i in range(1,v+1):\n",
    "        for x in range(1,v+1):\n",
    "            if x == i:\n",
    "                continue\n",
    "            if random.random() <= p:\n",
    "                B.append([x,i])\n",
    "            else:\n",
    "                continue\n",
    "    for t in B:\n",
    "        A[t[0]-1,t[1]-1] =1\n",
    "    return(A)\n",
    "    \n",
    "    "
   ]
  },
  {
   "cell_type": "code",
   "execution_count": 218,
   "metadata": {},
   "outputs": [
    {
     "data": {
      "text/plain": [
       "array([[0, 0, 0, 0],\n",
       "       [0, 0, 0, 0],\n",
       "       [0, 0, 0, 0],\n",
       "       [0, 0, 0, 0]])"
      ]
     },
     "execution_count": 218,
     "metadata": {},
     "output_type": "execute_result"
    }
   ],
   "source": [
    "matrix(4,0.1)"
   ]
  },
  {
   "cell_type": "code",
   "execution_count": 211,
   "metadata": {},
   "outputs": [
    {
     "name": "stdout",
     "output_type": "stream",
     "text": [
      "[[1. 0. 0.]\n",
      " [0. 1. 0.]\n",
      " [0. 0. 1.]]\n"
     ]
    }
   ],
   "source": [
    "A = np.zeros((3,3))\n",
    "B = [[1,1],[2,2],[3,3]]\n",
    "\n",
    "for x in B:\n",
    "    A[x[0]-1,x[1]-1]=1\n",
    "print(A)"
   ]
  },
  {
   "cell_type": "code",
   "execution_count": 324,
   "metadata": {},
   "outputs": [],
   "source": [
    "#This converts matrces to a list of tuples\n",
    "def matrixTotuple(G):\n",
    "    D=[]\n",
    "    size = G.shape[0]\n",
    "    for x in range(0,size):\n",
    "        for i in range(0,size):\n",
    "            if G[x,i] == 1:\n",
    "                D.append([x,i])\n",
    "            else:\n",
    "                continue\n",
    "    return D\n",
    "\n"
   ]
  },
  {
   "cell_type": "code",
   "execution_count": 187,
   "metadata": {},
   "outputs": [
    {
     "data": {
      "text/plain": [
       "[[0, 0], [1, 1], [2, 2], [3, 3]]"
      ]
     },
     "execution_count": 187,
     "metadata": {},
     "output_type": "execute_result"
    }
   ],
   "source": [
    "A = np.identity(4)\n",
    "m2t(A)"
   ]
  },
  {
   "cell_type": "code",
   "execution_count": 307,
   "metadata": {},
   "outputs": [],
   "source": [
    "#This function will take in a graph (as a matrix) and return the number of edges, edge density, and the in/out/total degree of each node\n",
    "def analyzer(A):\n",
    "    size = A.shape[0]\n",
    "    edgeCount = 0\n",
    "    degout =[]\n",
    "    degin = []\n",
    "    for x in range(0,size):\n",
    "        xout = 0\n",
    "        for i in range(0,size):\n",
    "            if A[x,i] == 1:\n",
    "                edgeCount += 1\n",
    "                xout +=1\n",
    "            else:\n",
    "                continue\n",
    "        degout.append(xout)\n",
    "    for i in range(0,size):\n",
    "        xin = 0\n",
    "        for x in range(0,size):\n",
    "            if A[x,i] == 1:\n",
    "                xin +=1\n",
    "            else:\n",
    "                continue\n",
    "        degin.append(xin)\n",
    "    print(\"There are \" + str(edgeCount) + \" edge(s) in this graph.\")\n",
    "    edgeDensity = edgeCount/(size)/(size-1)\n",
    "    print(\"This graph has an edge density of \" +str(edgeDensity) + \".\")\n",
    "    print(degin)\n",
    "    print(degout)\n",
    "    for t in range(1,size+1):\n",
    "        print(\"Node \" +str(t) + \" has an out-degree of \" +str(degout[t-1]) + \" and an in degree of \" +str(degin[t-1]) + \" for a total degree of \"+ str(degout[t-1]+degin[t-1]))\n",
    "    \n",
    "    \n",
    "\n",
    "\n",
    "    \n"
   ]
  },
  {
   "cell_type": "code",
   "execution_count": 322,
   "metadata": {},
   "outputs": [
    {
     "name": "stdout",
     "output_type": "stream",
     "text": [
      "[[0 1 0 1]\n",
      " [1 0 0 1]\n",
      " [1 1 0 1]\n",
      " [1 1 1 0]]\n"
     ]
    }
   ],
   "source": [
    "A = matrix(4,.5)\n",
    "print(A)"
   ]
  },
  {
   "cell_type": "code",
   "execution_count": 323,
   "metadata": {},
   "outputs": [
    {
     "name": "stdout",
     "output_type": "stream",
     "text": [
      "There are 10 edge(s) in this graph.\n",
      "This graph has an edge density of 0.8333333333333334.\n",
      "[3, 3, 1, 3]\n",
      "[2, 2, 3, 3]\n",
      "Node 1 has an out-degree of 2 and an in degree of 3 for a total degree of 5\n",
      "Node 2 has an out-degree of 2 and an in degree of 3 for a total degree of 5\n",
      "Node 3 has an out-degree of 3 and an in degree of 1 for a total degree of 4\n",
      "Node 4 has an out-degree of 3 and an in degree of 3 for a total degree of 6\n"
     ]
    }
   ],
   "source": [
    "analyzer(A)"
   ]
  },
  {
   "cell_type": "code",
   "execution_count": 317,
   "metadata": {},
   "outputs": [
    {
     "name": "stdout",
     "output_type": "stream",
     "text": [
      "I have 2 dogs\n"
     ]
    }
   ],
   "source": [
    "x =2 \n",
    "print(\"I have \" + str(x) + \" dogs\")"
   ]
  },
  {
   "cell_type": "code",
   "execution_count": null,
   "metadata": {},
   "outputs": [],
   "source": []
  }
 ],
 "metadata": {
  "kernelspec": {
   "display_name": "Python 3",
   "language": "python",
   "name": "python3"
  },
  "language_info": {
   "codemirror_mode": {
    "name": "ipython",
    "version": 3
   },
   "file_extension": ".py",
   "mimetype": "text/x-python",
   "name": "python",
   "nbconvert_exporter": "python",
   "pygments_lexer": "ipython3",
   "version": "3.8.0"
  }
 },
 "nbformat": 4,
 "nbformat_minor": 2
}
